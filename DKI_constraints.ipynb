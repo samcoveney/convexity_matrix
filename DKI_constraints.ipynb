{
 "cells": [
  {
   "cell_type": "markdown",
   "metadata": {},
   "source": [
    "# DKI constraints\n",
    "\n"
   ]
  },
  {
   "cell_type": "code",
   "execution_count": 1,
   "metadata": {},
   "outputs": [],
   "source": [
    "import numpy as np\n",
    "from scipy import sparse\n",
    "import matplotlib.pyplot as plt\n",
    "from mpl_toolkits.axes_grid1 import AxesGrid"
   ]
  },
  {
   "cell_type": "code",
   "execution_count": 2,
   "metadata": {},
   "outputs": [
    {
     "data": {
      "text/plain": [
       "(a, b, c)"
      ]
     },
     "execution_count": 2,
     "metadata": {},
     "output_type": "execute_result"
    }
   ],
   "source": [
    "var('w1 w2 w3 w4 w5 w6 w7 w8 w9 w10 w11 w12 w13 w14 w15 w16 w17 w18 w19 w20 w21 w22')\n",
    "\n",
    "# h(q, s)\n",
    "var('x y z')  # i.e. vars for wavevector q (called 'x' in Tom's work, he writes h(x, s)); same as Magnani\n",
    "var('a b c')  # i.e. vars for dummy vector s, same dimension as q\n",
    "\n",
    "# remember, that h(q,s) = s^T . Hessian_f(q) . s\n",
    "# so h(q,s) is a poly of both q and s"
   ]
  },
  {
   "cell_type": "code",
   "execution_count": 3,
   "metadata": {},
   "outputs": [],
   "source": [
    "# The cumulant generating function is: CGF(q) = log(S(iq))\n",
    "# and it is this function that we are interested in being convex\n",
    "# it is basically the same as the Signal model for DKI,\n",
    "# but the first 6 terms have a positive sign\n",
    "\n",
    "f = +1 * w1 * x^2 \\\n",
    "    +2 * w2 * x * y \\\n",
    "    +1 * w3 * y^2 \\\n",
    "    +2 * w4 * x * z \\\n",
    "    +2 * w5 * y * z \\\n",
    "    +1 * w6 * z^2 \\\n",
    "    +1/6 * w7 * x^4 \\\n",
    "    +1/6 * w8 * y^4 \\\n",
    "    +1/6 * w9 * z^4 \\\n",
    "    +4/6 * w10 * x^3 * y \\\n",
    "    +4/6 * w11 * x^3 * z \\\n",
    "    +4/6 * w12 * y^3 * x \\\n",
    "    +4/6 * w13 * y^3 * z \\\n",
    "    +4/6 * w14 * z^3 * x \\\n",
    "    +4/6 * w15 * z^3 * y \\\n",
    "    +1 * w16 * x^2 * y^2 \\\n",
    "    +1 * w17 * x^2 * z^2 \\\n",
    "    +1 * w18 * y^2 * z^2 \\\n",
    "    +2 * w19 * x^2 * y * z \\\n",
    "    +2 * w20 * y^2 * x * z \\\n",
    "    +2 * w21 * z^2 * x * y \\\n",
    "    -1 * w22\n"
   ]
  },
  {
   "cell_type": "code",
   "execution_count": 4,
   "metadata": {},
   "outputs": [
    {
     "data": {
      "text/plain": [
       "1/6*w7*x^4 + 2/3*w10*x^3*y + w16*x^2*y^2 + 2/3*w12*x*y^3 + 1/6*w8*y^4 + 2/3*w11*x^3*z + 2*w19*x^2*y*z + 2*w20*x*y^2*z + 2/3*w13*y^3*z + w17*x^2*z^2 + 2*w21*x*y*z^2 + w18*y^2*z^2 + 2/3*w14*x*z^3 + 2/3*w15*y*z^3 + 1/6*w9*z^4 + w1*x^2 + 2*w2*x*y + w3*y^2 + 2*w4*x*z + 2*w5*y*z + w6*z^2 - w22"
      ]
     },
     "execution_count": 4,
     "metadata": {},
     "output_type": "execute_result"
    }
   ],
   "source": [
    "f"
   ]
  },
  {
   "cell_type": "code",
   "execution_count": 5,
   "metadata": {},
   "outputs": [],
   "source": [
    "f = matrix([[derivative(f,x,2), derivative(derivative(f,x),y), derivative(derivative(f,x),z)],\n",
    "            [derivative(derivative(f,y),x), derivative(f,y,2), derivative(derivative(f,y),z)],\n",
    "            [derivative(derivative(f,z),x), derivative(derivative(f,z),y), derivative(f,z,2)]])"
   ]
  },
  {
   "cell_type": "code",
   "execution_count": 6,
   "metadata": {},
   "outputs": [
    {
     "data": {
      "text/plain": [
       "[ 2*w7*x^2 + 4*w10*x*y + 2*w16*y^2 + 4*w11*x*z + 4*w19*y*z + 2*w17*z^2 + 2*w1 2*w10*x^2 + 4*w16*x*y + 2*w12*y^2 + 4*w19*x*z + 4*w20*y*z + 2*w21*z^2 + 2*w2 2*w11*x^2 + 4*w19*x*y + 2*w20*y^2 + 4*w17*x*z + 4*w21*y*z + 2*w14*z^2 + 2*w4]\n",
       "[2*w10*x^2 + 4*w16*x*y + 2*w12*y^2 + 4*w19*x*z + 4*w20*y*z + 2*w21*z^2 + 2*w2  2*w16*x^2 + 4*w12*x*y + 2*w8*y^2 + 4*w20*x*z + 4*w13*y*z + 2*w18*z^2 + 2*w3 2*w19*x^2 + 4*w20*x*y + 2*w13*y^2 + 4*w21*x*z + 4*w18*y*z + 2*w15*z^2 + 2*w5]\n",
       "[2*w11*x^2 + 4*w19*x*y + 2*w20*y^2 + 4*w17*x*z + 4*w21*y*z + 2*w14*z^2 + 2*w4 2*w19*x^2 + 4*w20*x*y + 2*w13*y^2 + 4*w21*x*z + 4*w18*y*z + 2*w15*z^2 + 2*w5  2*w17*x^2 + 4*w21*x*y + 2*w18*y^2 + 4*w14*x*z + 4*w15*y*z + 2*w9*z^2 + 2*w6]"
      ]
     },
     "execution_count": 6,
     "metadata": {},
     "output_type": "execute_result"
    }
   ],
   "source": [
    "f"
   ]
  },
  {
   "cell_type": "code",
   "execution_count": 7,
   "metadata": {},
   "outputs": [],
   "source": [
    "# this is the dummy vector 's'\n",
    "dum = vector([a, b, c])"
   ]
  },
  {
   "cell_type": "code",
   "execution_count": 8,
   "metadata": {},
   "outputs": [],
   "source": [
    "h = (dum * f * dum).expand()"
   ]
  },
  {
   "cell_type": "code",
   "execution_count": 9,
   "metadata": {},
   "outputs": [
    {
     "data": {
      "text/plain": [
       "4*a*b*w10*x^2 + 4*a*c*w11*x^2 + 2*b^2*w16*x^2 + 2*c^2*w17*x^2 + 4*b*c*w19*x^2 + 2*a^2*w7*x^2 + 4*a^2*w10*x*y + 4*b^2*w12*x*y + 8*a*b*w16*x*y + 8*a*c*w19*x*y + 8*b*c*w20*x*y + 4*c^2*w21*x*y + 4*a*b*w12*y^2 + 4*b*c*w13*y^2 + 2*a^2*w16*y^2 + 2*c^2*w18*y^2 + 4*a*c*w20*y^2 + 2*b^2*w8*y^2 + 4*a^2*w11*x*z + 4*c^2*w14*x*z + 8*a*c*w17*x*z + 8*a*b*w19*x*z + 4*b^2*w20*x*z + 8*b*c*w21*x*z + 4*b^2*w13*y*z + 4*c^2*w15*y*z + 8*b*c*w18*y*z + 4*a^2*w19*y*z + 8*a*b*w20*y*z + 8*a*c*w21*y*z + 4*a*c*w14*z^2 + 4*b*c*w15*z^2 + 2*a^2*w17*z^2 + 2*b^2*w18*z^2 + 4*a*b*w21*z^2 + 2*c^2*w9*z^2 + 2*a^2*w1 + 4*a*b*w2 + 2*b^2*w3 + 4*a*c*w4 + 4*b*c*w5 + 2*c^2*w6"
      ]
     },
     "execution_count": 9,
     "metadata": {},
     "output_type": "execute_result"
    }
   ],
   "source": [
    "h"
   ]
  },
  {
   "cell_type": "code",
   "execution_count": 10,
   "metadata": {},
   "outputs": [],
   "source": [
    "# NOTE: it could be, that we still have too many options here... \n",
    "\n",
    "# all monomials up to order 2\n",
    "#e = vector([x, y, z, a, b, c,\n",
    "#            x^2, y^2, z^2, a^2, b^2, c^2,\n",
    "#            x*y, x*z, y*z,\n",
    "#            a*b, a*c, b*c,\n",
    "#            x*a, x*b, x*c,\n",
    "#            y*a, y*b, y*c,\n",
    "#            z*a, z*b, z*c])\n",
    "\n",
    "# I thought we had to include all monomials, but looks like we could represent h with only these\n",
    "# Tom's A matrices are 12 x 12 so maybe this is right after all!\n",
    "# \n",
    "e = vector([a, b, c,\n",
    "            x*a, x*b, x*c,\n",
    "            y*a, y*b, y*c,\n",
    "            z*a, z*b, z*c])"
   ]
  },
  {
   "cell_type": "code",
   "execution_count": 11,
   "metadata": {},
   "outputs": [],
   "source": [
    "# create a dense matrix of elements d_ij\n",
    "\n",
    "SZ = len(e)\n",
    "dense = matrix(SR, SZ, SZ)\n",
    "\n",
    "for j in range(SZ):\n",
    "    for i in range(SZ):\n",
    "        ttt = var('d_' + str(i + 1) + '_' + str(j + 1))\n",
    "        dense[i, j] = ttt\n"
   ]
  },
  {
   "cell_type": "code",
   "execution_count": 12,
   "metadata": {},
   "outputs": [
    {
     "data": {
      "text/plain": [
       "a^2*d_4_4*x^2 + a*b*d_4_5*x^2 + a*c*d_4_6*x^2 + a*b*d_5_4*x^2 + b^2*d_5_5*x^2 + b*c*d_5_6*x^2 + a*c*d_6_4*x^2 + b*c*d_6_5*x^2 + c^2*d_6_6*x^2 + a^2*d_4_7*x*y + a*b*d_4_8*x*y + a*c*d_4_9*x*y + a*b*d_5_7*x*y + b^2*d_5_8*x*y + b*c*d_5_9*x*y + a*c*d_6_7*x*y + b*c*d_6_8*x*y + c^2*d_6_9*x*y + a^2*d_7_4*x*y + a*b*d_7_5*x*y + a*c*d_7_6*x*y + a*b*d_8_4*x*y + b^2*d_8_5*x*y + b*c*d_8_6*x*y + a*c*d_9_4*x*y + b*c*d_9_5*x*y + c^2*d_9_6*x*y + a^2*d_7_7*y^2 + a*b*d_7_8*y^2 + a*c*d_7_9*y^2 + a*b*d_8_7*y^2 + b^2*d_8_8*y^2 + b*c*d_8_9*y^2 + a*c*d_9_7*y^2 + b*c*d_9_8*y^2 + c^2*d_9_9*y^2 + a^2*d_10_4*x*z + a*b*d_10_5*x*z + a*c*d_10_6*x*z + a*b*d_11_4*x*z + b^2*d_11_5*x*z + b*c*d_11_6*x*z + a*c*d_12_4*x*z + b*c*d_12_5*x*z + c^2*d_12_6*x*z + a^2*d_4_10*x*z + a*b*d_4_11*x*z + a*c*d_4_12*x*z + a*b*d_5_10*x*z + b^2*d_5_11*x*z + b*c*d_5_12*x*z + a*c*d_6_10*x*z + b*c*d_6_11*x*z + c^2*d_6_12*x*z + a^2*d_10_7*y*z + a*b*d_10_8*y*z + a*c*d_10_9*y*z + a*b*d_11_7*y*z + b^2*d_11_8*y*z + b*c*d_11_9*y*z + a*c*d_12_7*y*z + b*c*d_12_8*y*z + c^2*d_12_9*y*z + a^2*d_7_10*y*z + a*b*d_7_11*y*z + a*c*d_7_12*y*z + a*b*d_8_10*y*z + b^2*d_8_11*y*z + b*c*d_8_12*y*z + a*c*d_9_10*y*z + b*c*d_9_11*y*z + c^2*d_9_12*y*z + a^2*d_10_10*z^2 + a*b*d_10_11*z^2 + a*c*d_10_12*z^2 + a*b*d_11_10*z^2 + b^2*d_11_11*z^2 + b*c*d_11_12*z^2 + a*c*d_12_10*z^2 + b*c*d_12_11*z^2 + c^2*d_12_12*z^2 + a^2*d_1_4*x + a*b*d_1_5*x + a*c*d_1_6*x + a*b*d_2_4*x + b^2*d_2_5*x + b*c*d_2_6*x + a*c*d_3_4*x + b*c*d_3_5*x + c^2*d_3_6*x + a^2*d_4_1*x + a*b*d_4_2*x + a*c*d_4_3*x + a*b*d_5_1*x + b^2*d_5_2*x + b*c*d_5_3*x + a*c*d_6_1*x + b*c*d_6_2*x + c^2*d_6_3*x + a^2*d_1_7*y + a*b*d_1_8*y + a*c*d_1_9*y + a*b*d_2_7*y + b^2*d_2_8*y + b*c*d_2_9*y + a*c*d_3_7*y + b*c*d_3_8*y + c^2*d_3_9*y + a^2*d_7_1*y + a*b*d_7_2*y + a*c*d_7_3*y + a*b*d_8_1*y + b^2*d_8_2*y + b*c*d_8_3*y + a*c*d_9_1*y + b*c*d_9_2*y + c^2*d_9_3*y + a^2*d_10_1*z + a*b*d_10_2*z + a*c*d_10_3*z + a*b*d_11_1*z + b^2*d_11_2*z + b*c*d_11_3*z + a*c*d_12_1*z + b*c*d_12_2*z + c^2*d_12_3*z + a^2*d_1_10*z + a*b*d_1_11*z + a*c*d_1_12*z + a*b*d_2_10*z + b^2*d_2_11*z + b*c*d_2_12*z + a*c*d_3_10*z + b*c*d_3_11*z + c^2*d_3_12*z + a^2*d_1_1 + a*b*d_1_2 + a*c*d_1_3 + a*b*d_2_1 + b^2*d_2_2 + b*c*d_2_3 + a*c*d_3_1 + b*c*d_3_2 + c^2*d_3_3"
      ]
     },
     "execution_count": 12,
     "metadata": {},
     "output_type": "execute_result"
    }
   ],
   "source": [
    "# apply basis\n",
    "res = (e * dense * e).expand()\n",
    "res"
   ]
  },
  {
   "cell_type": "code",
   "execution_count": 13,
   "metadata": {},
   "outputs": [
    {
     "data": {
      "text/plain": [
       "[a^2*x^2,\n",
       " 2*a*b*x^2,\n",
       " b^2*x^2,\n",
       " 2*a*c*x^2,\n",
       " 2*b*c*x^2,\n",
       " c^2*x^2,\n",
       " 2*a^2*x*y,\n",
       " 4*a*b*x*y,\n",
       " 2*b^2*x*y,\n",
       " 4*a*c*x*y,\n",
       " 4*b*c*x*y,\n",
       " 2*c^2*x*y,\n",
       " a^2*y^2,\n",
       " 2*a*b*y^2,\n",
       " b^2*y^2,\n",
       " 2*a*c*y^2,\n",
       " 2*b*c*y^2,\n",
       " c^2*y^2,\n",
       " 2*a^2*x*z,\n",
       " 4*a*b*x*z,\n",
       " 2*b^2*x*z,\n",
       " 4*a*c*x*z,\n",
       " 4*b*c*x*z,\n",
       " 2*c^2*x*z,\n",
       " 2*a^2*y*z,\n",
       " 4*a*b*y*z,\n",
       " 2*b^2*y*z,\n",
       " 4*a*c*y*z,\n",
       " 4*b*c*y*z,\n",
       " 2*c^2*y*z,\n",
       " a^2*z^2,\n",
       " 2*a*b*z^2,\n",
       " b^2*z^2,\n",
       " 2*a*c*z^2,\n",
       " 2*b*c*z^2,\n",
       " c^2*z^2,\n",
       " 2*a^2*x,\n",
       " 4*a*b*x,\n",
       " 2*b^2*x,\n",
       " 4*a*c*x,\n",
       " 4*b*c*x,\n",
       " 2*c^2*x,\n",
       " 2*a^2*y,\n",
       " 4*a*b*y,\n",
       " 2*b^2*y,\n",
       " 4*a*c*y,\n",
       " 4*b*c*y,\n",
       " 2*c^2*y,\n",
       " 2*a^2*z,\n",
       " 4*a*b*z,\n",
       " 2*b^2*z,\n",
       " 4*a*c*z,\n",
       " 4*b*c*z,\n",
       " 2*c^2*z,\n",
       " a^2,\n",
       " 2*a*b,\n",
       " b^2,\n",
       " 2*a*c,\n",
       " 2*b*c,\n",
       " c^2]"
      ]
     },
     "execution_count": 13,
     "metadata": {},
     "output_type": "execute_result"
    }
   ],
   "source": [
    "# use dense matrix of ones, in order to determin all possible monomial_i x monomial_j combinations\n",
    "ones = matrix.ones(SZ, SZ)\n",
    "\n",
    "all_terms = (e * ones * e ).expand()\n",
    "\n",
    "mylist = all_terms.operands()\n",
    "mylist"
   ]
  },
  {
   "cell_type": "code",
   "execution_count": 14,
   "metadata": {
    "scrolled": false
   },
   "outputs": [
    {
     "data": {
      "text/plain": [
       "['a^2*x^2',\n",
       " 'a*b*x^2',\n",
       " 'b^2*x^2',\n",
       " 'a*c*x^2',\n",
       " 'b*c*x^2',\n",
       " 'c^2*x^2',\n",
       " 'a^2*x*y',\n",
       " 'a*b*x*y',\n",
       " 'b^2*x*y',\n",
       " 'a*c*x*y',\n",
       " 'b*c*x*y',\n",
       " 'c^2*x*y',\n",
       " 'a^2*y^2',\n",
       " 'a*b*y^2',\n",
       " 'b^2*y^2',\n",
       " 'a*c*y^2',\n",
       " 'b*c*y^2',\n",
       " 'c^2*y^2',\n",
       " 'a^2*x*z',\n",
       " 'a*b*x*z',\n",
       " 'b^2*x*z',\n",
       " 'a*c*x*z',\n",
       " 'b*c*x*z',\n",
       " 'c^2*x*z',\n",
       " 'a^2*y*z',\n",
       " 'a*b*y*z',\n",
       " 'b^2*y*z',\n",
       " 'a*c*y*z',\n",
       " 'b*c*y*z',\n",
       " 'c^2*y*z',\n",
       " 'a^2*z^2',\n",
       " 'a*b*z^2',\n",
       " 'b^2*z^2',\n",
       " 'a*c*z^2',\n",
       " 'b*c*z^2',\n",
       " 'c^2*z^2',\n",
       " 'a^2*x',\n",
       " 'a*b*x',\n",
       " 'b^2*x',\n",
       " 'a*c*x',\n",
       " 'b*c*x',\n",
       " 'c^2*x',\n",
       " 'a^2*y',\n",
       " 'a*b*y',\n",
       " 'b^2*y',\n",
       " 'a*c*y',\n",
       " 'b*c*y',\n",
       " 'c^2*y',\n",
       " 'a^2*z',\n",
       " 'a*b*z',\n",
       " 'b^2*z',\n",
       " 'a*c*z',\n",
       " 'b*c*z',\n",
       " 'c^2*z',\n",
       " 'a^2',\n",
       " 'a*b',\n",
       " 'b^2',\n",
       " 'a*c',\n",
       " 'b*c',\n",
       " 'c^2']"
      ]
     },
     "execution_count": 14,
     "metadata": {},
     "output_type": "execute_result"
    }
   ],
   "source": [
    "# now loop over this list, but strip out the numbers at the front, leaving only monomials_i x monomial_j\n",
    "\n",
    "TERMS = []\n",
    "tmp = None\n",
    "for i in mylist:\n",
    "    \n",
    "    if \"*\" in str(i):\n",
    "        tmp_split = str(i).split(\"*\")\n",
    "\n",
    "        try:\n",
    "            int(tmp_split[0])\n",
    "            tmp = \"*\".join(str(i).split(\"*\")[1:])\n",
    "        except:\n",
    "            tmp = str(i)\n",
    "    else:\n",
    "        tmp = str(i)\n",
    "    #print(tmp)\n",
    "    TERMS.append(tmp)\n",
    "TERMS"
   ]
  },
  {
   "cell_type": "code",
   "execution_count": 15,
   "metadata": {
    "scrolled": false
   },
   "outputs": [
    {
     "name": "stdout",
     "output_type": "stream",
     "text": [
      "( d_4_4 ) * a^2*x^2\n",
      "( 2*w7 ) * a^2*x^2\n",
      "\n",
      "( d_4_5 + d_5_4 ) * a*b*x^2\n",
      "( 4*w10 ) * a*b*x^2\n",
      "\n",
      "( d_5_5 ) * b^2*x^2\n",
      "( 2*w16 ) * b^2*x^2\n",
      "\n",
      "( d_4_6 + d_6_4 ) * a*c*x^2\n",
      "( 4*w11 ) * a*c*x^2\n",
      "\n",
      "( d_5_6 + d_6_5 ) * b*c*x^2\n",
      "( 4*w19 ) * b*c*x^2\n",
      "\n",
      "( d_6_6 ) * c^2*x^2\n",
      "( 2*w17 ) * c^2*x^2\n",
      "\n",
      "( d_4_7 + d_7_4 ) * a^2*x*y\n",
      "( 4*w10 ) * a^2*x*y\n",
      "\n",
      "( d_4_8 + d_5_7 + d_7_5 + d_8_4 ) * a*b*x*y\n",
      "( 8*w16 ) * a*b*x*y\n",
      "\n",
      "( d_5_8 + d_8_5 ) * b^2*x*y\n",
      "( 4*w12 ) * b^2*x*y\n",
      "\n",
      "( d_4_9 + d_6_7 + d_7_6 + d_9_4 ) * a*c*x*y\n",
      "( 8*w19 ) * a*c*x*y\n",
      "\n",
      "( d_5_9 + d_6_8 + d_8_6 + d_9_5 ) * b*c*x*y\n",
      "( 8*w20 ) * b*c*x*y\n",
      "\n",
      "( d_6_9 + d_9_6 ) * c^2*x*y\n",
      "( 4*w21 ) * c^2*x*y\n",
      "\n",
      "( d_7_7 ) * a^2*y^2\n",
      "( 2*w16 ) * a^2*y^2\n",
      "\n",
      "( d_7_8 + d_8_7 ) * a*b*y^2\n",
      "( 4*w12 ) * a*b*y^2\n",
      "\n",
      "( d_8_8 ) * b^2*y^2\n",
      "( 2*w8 ) * b^2*y^2\n",
      "\n",
      "( d_7_9 + d_9_7 ) * a*c*y^2\n",
      "( 4*w20 ) * a*c*y^2\n",
      "\n",
      "( d_8_9 + d_9_8 ) * b*c*y^2\n",
      "( 4*w13 ) * b*c*y^2\n",
      "\n",
      "( d_9_9 ) * c^2*y^2\n",
      "( 2*w18 ) * c^2*y^2\n",
      "\n",
      "( d_10_4 + d_4_10 ) * a^2*x*z\n",
      "( 4*w11 ) * a^2*x*z\n",
      "\n",
      "( d_10_5 + d_11_4 + d_4_11 + d_5_10 ) * a*b*x*z\n",
      "( 8*w19 ) * a*b*x*z\n",
      "\n",
      "( d_11_5 + d_5_11 ) * b^2*x*z\n",
      "( 4*w20 ) * b^2*x*z\n",
      "\n",
      "( d_10_6 + d_12_4 + d_4_12 + d_6_10 ) * a*c*x*z\n",
      "( 8*w17 ) * a*c*x*z\n",
      "\n",
      "( d_11_6 + d_12_5 + d_5_12 + d_6_11 ) * b*c*x*z\n",
      "( 8*w21 ) * b*c*x*z\n",
      "\n",
      "( d_12_6 + d_6_12 ) * c^2*x*z\n",
      "( 4*w14 ) * c^2*x*z\n",
      "\n",
      "( d_10_7 + d_7_10 ) * a^2*y*z\n",
      "( 4*w19 ) * a^2*y*z\n",
      "\n",
      "( d_10_8 + d_11_7 + d_7_11 + d_8_10 ) * a*b*y*z\n",
      "( 8*w20 ) * a*b*y*z\n",
      "\n",
      "( d_11_8 + d_8_11 ) * b^2*y*z\n",
      "( 4*w13 ) * b^2*y*z\n",
      "\n",
      "( d_10_9 + d_12_7 + d_7_12 + d_9_10 ) * a*c*y*z\n",
      "( 8*w21 ) * a*c*y*z\n",
      "\n",
      "( d_11_9 + d_12_8 + d_8_12 + d_9_11 ) * b*c*y*z\n",
      "( 8*w18 ) * b*c*y*z\n",
      "\n",
      "( d_12_9 + d_9_12 ) * c^2*y*z\n",
      "( 4*w15 ) * c^2*y*z\n",
      "\n",
      "( d_10_10 ) * a^2*z^2\n",
      "( 2*w17 ) * a^2*z^2\n",
      "\n",
      "( d_10_11 + d_11_10 ) * a*b*z^2\n",
      "( 4*w21 ) * a*b*z^2\n",
      "\n",
      "( d_11_11 ) * b^2*z^2\n",
      "( 2*w18 ) * b^2*z^2\n",
      "\n",
      "( d_10_12 + d_12_10 ) * a*c*z^2\n",
      "( 4*w14 ) * a*c*z^2\n",
      "\n",
      "( d_11_12 + d_12_11 ) * b*c*z^2\n",
      "( 4*w15 ) * b*c*z^2\n",
      "\n",
      "( d_12_12 ) * c^2*z^2\n",
      "( 2*w9 ) * c^2*z^2\n",
      "\n",
      "( d_4_7*y + d_7_4*y + d_10_4*z + d_4_10*z + d_1_4 + d_4_1 ) * a^2*x\n",
      "( 4*w10*y + 4*w11*z ) * a^2*x\n",
      "\n",
      "( d_4_8*y + d_5_7*y + d_7_5*y + d_8_4*y + d_10_5*z + d_11_4*z + d_4_11*z + d_5_10*z + d_1_5 + d_2_4 + d_4_2 + d_5_1 ) * a*b*x\n",
      "( 8*w16*y + 8*w19*z ) * a*b*x\n",
      "\n",
      "( d_5_8*y + d_8_5*y + d_11_5*z + d_5_11*z + d_2_5 + d_5_2 ) * b^2*x\n",
      "( 4*w12*y + 4*w20*z ) * b^2*x\n",
      "\n",
      "( d_4_9*y + d_6_7*y + d_7_6*y + d_9_4*y + d_10_6*z + d_12_4*z + d_4_12*z + d_6_10*z + d_1_6 + d_3_4 + d_4_3 + d_6_1 ) * a*c*x\n",
      "( 8*w19*y + 8*w17*z ) * a*c*x\n",
      "\n",
      "( d_5_9*y + d_6_8*y + d_8_6*y + d_9_5*y + d_11_6*z + d_12_5*z + d_5_12*z + d_6_11*z + d_2_6 + d_3_5 + d_5_3 + d_6_2 ) * b*c*x\n",
      "( 8*w20*y + 8*w21*z ) * b*c*x\n",
      "\n",
      "( d_6_9*y + d_9_6*y + d_12_6*z + d_6_12*z + d_3_6 + d_6_3 ) * c^2*x\n",
      "( 4*w21*y + 4*w14*z ) * c^2*x\n",
      "\n",
      "( d_4_7*x + d_7_4*x + d_10_7*z + d_7_10*z + d_1_7 + d_7_1 ) * a^2*y\n",
      "( 4*w10*x + 4*w19*z ) * a^2*y\n",
      "\n",
      "( d_4_8*x + d_5_7*x + d_7_5*x + d_8_4*x + d_10_8*z + d_11_7*z + d_7_11*z + d_8_10*z + d_1_8 + d_2_7 + d_7_2 + d_8_1 ) * a*b*y\n",
      "( 8*w16*x + 8*w20*z ) * a*b*y\n",
      "\n",
      "( d_5_8*x + d_8_5*x + d_11_8*z + d_8_11*z + d_2_8 + d_8_2 ) * b^2*y\n",
      "( 4*w12*x + 4*w13*z ) * b^2*y\n",
      "\n",
      "( d_4_9*x + d_6_7*x + d_7_6*x + d_9_4*x + d_10_9*z + d_12_7*z + d_7_12*z + d_9_10*z + d_1_9 + d_3_7 + d_7_3 + d_9_1 ) * a*c*y\n",
      "( 8*w19*x + 8*w21*z ) * a*c*y\n",
      "\n",
      "( d_5_9*x + d_6_8*x + d_8_6*x + d_9_5*x + d_11_9*z + d_12_8*z + d_8_12*z + d_9_11*z + d_2_9 + d_3_8 + d_8_3 + d_9_2 ) * b*c*y\n",
      "( 8*w20*x + 8*w18*z ) * b*c*y\n",
      "\n",
      "( d_6_9*x + d_9_6*x + d_12_9*z + d_9_12*z + d_3_9 + d_9_3 ) * c^2*y\n",
      "( 4*w21*x + 4*w15*z ) * c^2*y\n",
      "\n",
      "( d_10_4*x + d_4_10*x + d_10_7*y + d_7_10*y + d_10_1 + d_1_10 ) * a^2*z\n",
      "( 4*w11*x + 4*w19*y ) * a^2*z\n",
      "\n",
      "( d_10_5*x + d_11_4*x + d_4_11*x + d_5_10*x + d_10_8*y + d_11_7*y + d_7_11*y + d_8_10*y + d_10_2 + d_11_1 + d_1_11 + d_2_10 ) * a*b*z\n",
      "( 8*w19*x + 8*w20*y ) * a*b*z\n",
      "\n",
      "( d_11_5*x + d_5_11*x + d_11_8*y + d_8_11*y + d_11_2 + d_2_11 ) * b^2*z\n",
      "( 4*w20*x + 4*w13*y ) * b^2*z\n",
      "\n",
      "( d_10_6*x + d_12_4*x + d_4_12*x + d_6_10*x + d_10_9*y + d_12_7*y + d_7_12*y + d_9_10*y + d_10_3 + d_12_1 + d_1_12 + d_3_10 ) * a*c*z\n",
      "( 8*w17*x + 8*w21*y ) * a*c*z\n",
      "\n",
      "( d_11_6*x + d_12_5*x + d_5_12*x + d_6_11*x + d_11_9*y + d_12_8*y + d_8_12*y + d_9_11*y + d_11_3 + d_12_2 + d_2_12 + d_3_11 ) * b*c*z\n",
      "( 8*w21*x + 8*w18*y ) * b*c*z\n",
      "\n",
      "( d_12_6*x + d_6_12*x + d_12_9*y + d_9_12*y + d_12_3 + d_3_12 ) * c^2*z\n",
      "( 4*w14*x + 4*w15*y ) * c^2*z\n",
      "\n",
      "( d_4_4*x^2 + d_4_7*x*y + d_7_4*x*y + d_7_7*y^2 + d_10_4*x*z + d_4_10*x*z + d_10_7*y*z + d_7_10*y*z + d_10_10*z^2 + d_1_4*x + d_4_1*x + d_1_7*y + d_7_1*y + d_10_1*z + d_1_10*z + d_1_1 ) * a^2\n",
      "( 2*w7*x^2 + 4*w10*x*y + 2*w16*y^2 + 4*w11*x*z + 4*w19*y*z + 2*w17*z^2 + 2*w1 ) * a^2\n",
      "\n",
      "( d_4_5*x^2 + d_5_4*x^2 + d_4_8*x*y + d_5_7*x*y + d_7_5*x*y + d_8_4*x*y + d_7_8*y^2 + d_8_7*y^2 + d_10_5*x*z + d_11_4*x*z + d_4_11*x*z + d_5_10*x*z + d_10_8*y*z + d_11_7*y*z + d_7_11*y*z + d_8_10*y*z + d_10_11*z^2 + d_11_10*z^2 + d_1_5*x + d_2_4*x + d_4_2*x + d_5_1*x + d_1_8*y + d_2_7*y + d_7_2*y + d_8_1*y + d_10_2*z + d_11_1*z + d_1_11*z + d_2_10*z + d_1_2 + d_2_1 ) * a*b\n",
      "( 4*w10*x^2 + 8*w16*x*y + 4*w12*y^2 + 8*w19*x*z + 8*w20*y*z + 4*w21*z^2 + 4*w2 ) * a*b\n",
      "\n",
      "( d_5_5*x^2 + d_5_8*x*y + d_8_5*x*y + d_8_8*y^2 + d_11_5*x*z + d_5_11*x*z + d_11_8*y*z + d_8_11*y*z + d_11_11*z^2 + d_2_5*x + d_5_2*x + d_2_8*y + d_8_2*y + d_11_2*z + d_2_11*z + d_2_2 ) * b^2\n",
      "( 2*w16*x^2 + 4*w12*x*y + 2*w8*y^2 + 4*w20*x*z + 4*w13*y*z + 2*w18*z^2 + 2*w3 ) * b^2\n",
      "\n",
      "( d_4_6*x^2 + d_6_4*x^2 + d_4_9*x*y + d_6_7*x*y + d_7_6*x*y + d_9_4*x*y + d_7_9*y^2 + d_9_7*y^2 + d_10_6*x*z + d_12_4*x*z + d_4_12*x*z + d_6_10*x*z + d_10_9*y*z + d_12_7*y*z + d_7_12*y*z + d_9_10*y*z + d_10_12*z^2 + d_12_10*z^2 + d_1_6*x + d_3_4*x + d_4_3*x + d_6_1*x + d_1_9*y + d_3_7*y + d_7_3*y + d_9_1*y + d_10_3*z + d_12_1*z + d_1_12*z + d_3_10*z + d_1_3 + d_3_1 ) * a*c\n",
      "( 4*w11*x^2 + 8*w19*x*y + 4*w20*y^2 + 8*w17*x*z + 8*w21*y*z + 4*w14*z^2 + 4*w4 ) * a*c\n",
      "\n",
      "( d_5_6*x^2 + d_6_5*x^2 + d_5_9*x*y + d_6_8*x*y + d_8_6*x*y + d_9_5*x*y + d_8_9*y^2 + d_9_8*y^2 + d_11_6*x*z + d_12_5*x*z + d_5_12*x*z + d_6_11*x*z + d_11_9*y*z + d_12_8*y*z + d_8_12*y*z + d_9_11*y*z + d_11_12*z^2 + d_12_11*z^2 + d_2_6*x + d_3_5*x + d_5_3*x + d_6_2*x + d_2_9*y + d_3_8*y + d_8_3*y + d_9_2*y + d_11_3*z + d_12_2*z + d_2_12*z + d_3_11*z + d_2_3 + d_3_2 ) * b*c\n",
      "( 4*w19*x^2 + 8*w20*x*y + 4*w13*y^2 + 8*w21*x*z + 8*w18*y*z + 4*w15*z^2 + 4*w5 ) * b*c\n",
      "\n",
      "( d_6_6*x^2 + d_6_9*x*y + d_9_6*x*y + d_9_9*y^2 + d_12_6*x*z + d_6_12*x*z + d_12_9*y*z + d_9_12*y*z + d_12_12*z^2 + d_3_6*x + d_6_3*x + d_3_9*y + d_9_3*y + d_12_3*z + d_3_12*z + d_3_3 ) * c^2\n",
      "( 2*w17*x^2 + 4*w21*x*y + 2*w18*y^2 + 4*w14*x*z + 4*w15*y*z + 2*w9*z^2 + 2*w6 ) * c^2\n",
      "\n"
     ]
    }
   ],
   "source": [
    "# the basic logic of how to determine which d_i_j elements correspond to which w  \n",
    "\n",
    "for term in TERMS:\n",
    "    tmp = res.coefficient(SR(term))  # looking in res = e.dense.e for the corresponding factor\n",
    "    tmp_h = h.coefficient(SR(term)) \n",
    "\n",
    "    print(\"(\", tmp, \") *\", term)\n",
    "    print(\"(\", tmp_h, \") *\", term)\n",
    "    print()"
   ]
  },
  {
   "cell_type": "code",
   "execution_count": 16,
   "metadata": {
    "scrolled": true
   },
   "outputs": [],
   "source": [
    "# for storing my collection of H matrices\n",
    "\n",
    "ZEROS = np.zeros([SZ, SZ], dtype=int)\n",
    "H_list = [ZEROS.copy() for idx in range(21)]\n",
    "\n",
    "for term in TERMS:\n",
    "    tmp = res.coefficient(SR(term))  # looking in res = e.dense.e for the corresponding factor\n",
    "    tmp_h = h.coefficient(SR(term))  # looking in h(x, s)\n",
    "\n",
    "    # where do we have a non-zero on right, i.e. where do we need to put the w_i\n",
    "    if \"w\" in str(tmp_h):\n",
    "\n",
    "        #print(tmp_h)\n",
    "        TMP_H = [t for t in str(tmp_h).split(\"+\") if not(any(test in str(t) for test in ['x', 'y', 'z', 'a', 'b', 'c']))]\n",
    "        #print(\"TMP_H HERE:\", TMP_H)\n",
    "        \n",
    "        MINUS = False\n",
    "        if len(TMP_H) == 0:  # try split on \"-\"\n",
    "            TMP_H = [t for t in str(tmp_h).split(\"-\") if not(any(test in str(t) for test in ['x', 'y', 'z', 'a', 'b', 'c']))]\n",
    "            MINUS = True\n",
    "\n",
    "        if len(TMP_H) > 0:\n",
    "            # determin which w\n",
    "            tmp_w = TMP_H[-1].split(\"w\")  # NOTE: should only be one element left\n",
    "            wdx = int(tmp_w[-1])\n",
    "            \n",
    "            # get coefficient of w that we need to match by setting elements in H matrix\n",
    "            tmp_w = tmp_w[0].split(\"*\")\n",
    "            wco = int(tmp_w[0])\n",
    "            if MINUS:\n",
    "                wco *= -1\n",
    "            \n",
    "            #print(\"wdx:\", wdx)\n",
    "            #print(\"w_coeff:\", wco)\n",
    "            \n",
    "            # TODO: how to extract d_i_j\n",
    "            #       tmp is a 'sage.symbolic.expression.Expression'\n",
    "   \n",
    "            # split up the (d_i_j + d_i_j + ...) into list, disacrd any that have a variable in them \n",
    "            TMP = str(tmp).split(\"+\")\n",
    "            oper = [t for t in TMP if not(any(test in str(t) for test in ['x', 'y', 'z', 'a', 'b', 'c']))]\n",
    "            \n",
    "            # case for setting a diagonal element\n",
    "            if len(oper)%2 or len(oper) == 1:\n",
    "                \n",
    "                for idx in range(len(oper)):\n",
    "                    tmptmp = str(oper[idx]).split(\"_\")\n",
    "                    if tmptmp[1] == tmptmp[2]:  # find diagonal term\n",
    "                        # for diagonal case (case where is a diagonal) just set to coeff of w_i\n",
    "                        H_list[wdx - 1][int(tmptmp[1]) - 1, int(tmptmp[2]) - 1] = wco\n",
    "                                \n",
    "            else:\n",
    "\n",
    "                for idx in range(len(oper)):\n",
    "                    tmptmp = str(oper[idx]).split(\"_\")\n",
    "                    \n",
    "                    H_list[wdx - 1][int(tmptmp[1]) - 1, int(tmptmp[2]) - 1] = wco / len(oper)\n",
    "\n",
    "            #print(H_list[wdx - 1])        \n",
    "            #print()\n"
   ]
  },
  {
   "cell_type": "code",
   "execution_count": 17,
   "metadata": {},
   "outputs": [
    {
     "name": "stdout",
     "output_type": "stream",
     "text": [
      "[ 2*w1  2*w2  2*w4     0     0     0     0     0     0     0     0     0]\n",
      "[ 2*w2  2*w3  2*w5     0     0     0     0     0     0     0     0     0]\n",
      "[ 2*w4  2*w5  2*w6     0     0     0     0     0     0     0     0     0]\n",
      "[    0     0     0  2*w7 2*w10 2*w11 2*w10 2*w16 2*w19 2*w11 2*w19 2*w17]\n",
      "[    0     0     0 2*w10 2*w16 2*w19 2*w16 2*w12 2*w20 2*w19 2*w20 2*w21]\n",
      "[    0     0     0 2*w11 2*w19 2*w17 2*w19 2*w20 2*w21 2*w17 2*w21 2*w14]\n",
      "[    0     0     0 2*w10 2*w16 2*w19 2*w16 2*w12 2*w20 2*w19 2*w20 2*w21]\n",
      "[    0     0     0 2*w16 2*w12 2*w20 2*w12  2*w8 2*w13 2*w20 2*w13 2*w18]\n",
      "[    0     0     0 2*w19 2*w20 2*w21 2*w20 2*w13 2*w18 2*w21 2*w18 2*w15]\n",
      "[    0     0     0 2*w11 2*w19 2*w17 2*w19 2*w20 2*w21 2*w17 2*w21 2*w14]\n",
      "[    0     0     0 2*w19 2*w20 2*w21 2*w20 2*w13 2*w18 2*w21 2*w18 2*w15]\n",
      "[    0     0     0 2*w17 2*w21 2*w14 2*w21 2*w18 2*w15 2*w14 2*w15  2*w9]\n"
     ]
    },
    {
     "data": {
      "text/plain": [
       "0"
      ]
     },
     "execution_count": 17,
     "metadata": {},
     "output_type": "execute_result"
    }
   ],
   "source": [
    "# check that eT . H . e = h(x,s)\n",
    "\n",
    "MAT = np.zeros_like(H_list[0])\n",
    "for idx in range(len(H_list)):     \n",
    "    MAT = MAT + H_list[idx] * var('w' + str(idx + 1))\n",
    "\n",
    "MAT = matrix(MAT)\n",
    "print(MAT)\n",
    "(e * MAT * e).expand() - h"
   ]
  },
  {
   "cell_type": "code",
   "execution_count": 18,
   "metadata": {},
   "outputs": [
    {
     "name": "stdout",
     "output_type": "stream",
     "text": [
      "found 18 L-matrices\n"
     ]
    }
   ],
   "source": [
    "# now create list of L matrices i.e. all matrices where eT . L . e  = 0\n",
    "# since L must be symmetric, this can only happen when there are 4 d_i_j's multiplying monomial_1 * monomial_2\n",
    "\n",
    "ZEROS = np.zeros([SZ, SZ], dtype=int)\n",
    "L_list = []\n",
    "\n",
    "for term in TERMS:\n",
    "    \n",
    "    ZEROS_x = ZEROS.copy()\n",
    "    \n",
    "    # find the list of d_i_j the multiplies monomial_1 * monomial_2\n",
    "    tmp = res.coefficient(SR(term))  # looking in res = e.dense.e for the corresponding factor    \n",
    "    TMP = str(tmp).split(\"+\")\n",
    "    oper = [t for t in TMP if not(any(test in str(t) for test in ['x', 'y', 'z', 'a', 'b', 'c']))]\n",
    "        \n",
    "    if len(oper) == 4:\n",
    "        \n",
    "        MINUS = False\n",
    "        for idx in range(len(oper)):\n",
    "            tmptmp = str(oper[idx]).split(\"_\")\n",
    "            \n",
    "            # arbitrarily use i < j as the one that will be positive\n",
    "            \n",
    "            # fill in the upper diagonal only\n",
    "            if int(tmptmp[2]) > int(tmptmp[1]):\n",
    "                ZEROS_x[int(tmptmp[1]) - 1, int(tmptmp[2]) - 1] = +1 if MINUS else -1\n",
    "                MINUS = True  # so the first time we see an upper diagonal, positive, next time, negative\n",
    "                # should always work because there are no more than 4 terms\n",
    "                \n",
    "        # make the matrix symmetric (there are no diagonal elements in L)\n",
    "        ZEROS_x = ZEROS_x + ZEROS_x.T\n",
    "        \n",
    "        # attempt to check if any are the same\n",
    "        L_list.append(ZEROS_x)\n",
    "        #print()\n",
    "\n",
    "print(\"found {:d} L-matrices\".format(len(L_list)))"
   ]
  },
  {
   "cell_type": "code",
   "execution_count": 19,
   "metadata": {},
   "outputs": [],
   "source": [
    "# check that L matrices are valid\n",
    "ALL_L = ZEROS.copy()\n",
    "for L in L_list:\n",
    "    if (e * matrix(L) * e).expand() != 0:\n",
    "        raise ValueError(\"should be zero!\")\n",
    "    ALL_L += L\n",
    "\n",
    "if (e * matrix(ALL_L) * e).expand() != 0:\n",
    "    raise ValueError(\"should be zero!\")"
   ]
  },
  {
   "cell_type": "code",
   "execution_count": 20,
   "metadata": {},
   "outputs": [
    {
     "data": {
      "text/plain": [
       "0"
      ]
     },
     "execution_count": 20,
     "metadata": {},
     "output_type": "execute_result"
    }
   ],
   "source": [
    "(e * (MAT + matrix(ALL_L)) * e).expand() - h"
   ]
  },
  {
   "cell_type": "code",
   "execution_count": 21,
   "metadata": {},
   "outputs": [
    {
     "data": {
      "image/png": "[encoded data removed]",
      "text/plain": [
       "<Figure size 2304x1440 with 42 Axes>"
      ]
     },
     "metadata": {
      "needs_background": "light"
     },
     "output_type": "display_data"
    }
   ],
   "source": [
    "# fancy plot of H-matrix linearization\n",
    "\n",
    "fig = plt.figure(figsize=(32, 20))\n",
    "ax = AxesGrid(fig, 121,  # similar to subplot(121)\n",
    "              nrows_ncols=(3, 7),\n",
    "              axes_pad=0.275,\n",
    "              share_all=False,\n",
    "              label_mode=\"all\",\n",
    "              direction=\"column\"\n",
    "              )\n",
    "\n",
    "#fig, ax = plt.subplots(3, 7, figsize=)\n",
    "\n",
    "for i in range(3):\n",
    "    for j in range(7):\n",
    "        gdx = 7*i + j\n",
    "        \n",
    "        axx = ax[gdx]\n",
    "        \n",
    "        axx.imshow(H_list[gdx].T, vmin=-4, vmax=+4, cmap = \"RdBu_r\", extent=(-0.5, 11.5, -0.5, 11.5))\n",
    "\n",
    "        axx.set_xticks([idx-0.5 for idx in np.linspace(0, 12, 13, endpoint=True)])\n",
    "        axx.set_yticks([idx-0.5 for idx in np.linspace(0, 12, 13, endpoint=True)])\n",
    "        axx.set_xticklabels([])\n",
    "        axx.set_yticklabels([])\n",
    "        \n",
    "        for tick in axx.xaxis.get_major_ticks():\n",
    "            tick.tick1line.set_visible(False)\n",
    "            tick.tick2line.set_visible(False)\n",
    "        for tick in axx.yaxis.get_major_ticks():\n",
    "            tick.tick1line.set_visible(False)\n",
    "            tick.tick2line.set_visible(False)\n",
    "        \n",
    "        axx.set_title(r'$H_{%s}$' % str(gdx + 1))\n",
    "        axx.grid(color='black', linewidth=1.0)\n",
    "\n",
    "plt.savefig(\"/home/sam/Documents/papers/robust_constrained_DKI/figures/H_matrix.pdf\", bbox_inches='tight')"
   ]
  },
  {
   "cell_type": "code",
   "execution_count": 22,
   "metadata": {},
   "outputs": [
    {
     "data": {
      "image/png": "[encoded data removed]",
      "text/plain": [
       "<Figure size 2304x1440 with 36 Axes>"
      ]
     },
     "metadata": {
      "needs_background": "light"
     },
     "output_type": "display_data"
    }
   ],
   "source": [
    "# fancy plot of L-matrix linearization\n",
    "\n",
    "fig = plt.figure(figsize=(32, 20))\n",
    "ax = AxesGrid(fig, 121,  # similar to subplot(121)\n",
    "              nrows_ncols=(3, 6),\n",
    "              axes_pad=0.275,\n",
    "              share_all=False,\n",
    "              label_mode=\"all\",\n",
    "              direction=\"column\"\n",
    "              )\n",
    "\n",
    "#fig, ax = plt.subplots(3, 7, figsize=)\n",
    "\n",
    "for i in range(3):\n",
    "    for j in range(6):\n",
    "        gdx = 6*i + j\n",
    "        \n",
    "        axx = ax[gdx]\n",
    "        \n",
    "        axx.imshow(L_list[gdx].T, vmin=-2, vmax=+2, cmap = \"RdBu_r\", extent=(-0.5, 11.5, -0.5, 11.5))\n",
    "\n",
    "        axx.set_xticks([idx-0.5 for idx in np.linspace(0, 12, 13, endpoint=True)])\n",
    "        axx.set_yticks([idx-0.5 for idx in np.linspace(0, 12, 13, endpoint=True)])\n",
    "        axx.set_xticklabels([])\n",
    "        axx.set_yticklabels([])\n",
    "        \n",
    "        for tick in axx.xaxis.get_major_ticks():\n",
    "            tick.tick1line.set_visible(False)\n",
    "            tick.tick2line.set_visible(False)\n",
    "        for tick in axx.yaxis.get_major_ticks():\n",
    "            tick.tick1line.set_visible(False)\n",
    "            tick.tick2line.set_visible(False)\n",
    "        \n",
    "        axx.set_title(r'$L_{%s}$' % str(gdx + 1))\n",
    "        axx.grid(color='black', linewidth=1.0)\n",
    "\n",
    "plt.savefig(\"/home/sam/Documents/papers/robust_constrained_DKI/figures/L_matrix.pdf\", bbox_inches='tight')"
   ]
  },
  {
   "cell_type": "code",
   "execution_count": 23,
   "metadata": {},
   "outputs": [
    {
     "data": {
      "text/plain": [
       "[ 2*w1  2*w2  2*w4     0     0     0     0     0     0     0     0     0]\n",
       "[ 2*w2  2*w3  2*w5     0     0     0     0     0     0     0     0     0]\n",
       "[ 2*w4  2*w5  2*w6     0     0     0     0     0     0     0     0     0]\n",
       "[    0     0     0  2*w7 2*w10 2*w11 2*w10 2*w16 2*w19 2*w11 2*w19 2*w17]\n",
       "[    0     0     0 2*w10 2*w16 2*w19 2*w16 2*w12 2*w20 2*w19 2*w20 2*w21]\n",
       "[    0     0     0 2*w11 2*w19 2*w17 2*w19 2*w20 2*w21 2*w17 2*w21 2*w14]\n",
       "[    0     0     0 2*w10 2*w16 2*w19 2*w16 2*w12 2*w20 2*w19 2*w20 2*w21]\n",
       "[    0     0     0 2*w16 2*w12 2*w20 2*w12  2*w8 2*w13 2*w20 2*w13 2*w18]\n",
       "[    0     0     0 2*w19 2*w20 2*w21 2*w20 2*w13 2*w18 2*w21 2*w18 2*w15]\n",
       "[    0     0     0 2*w11 2*w19 2*w17 2*w19 2*w20 2*w21 2*w17 2*w21 2*w14]\n",
       "[    0     0     0 2*w19 2*w20 2*w21 2*w20 2*w13 2*w18 2*w21 2*w18 2*w15]\n",
       "[    0     0     0 2*w17 2*w21 2*w14 2*w21 2*w18 2*w15 2*w14 2*w15  2*w9]"
      ]
     },
     "execution_count": 23,
     "metadata": {},
     "output_type": "execute_result"
    }
   ],
   "source": [
    "ALL_H_sym = matrix(ZEROS.copy())\n",
    "for hdx, H in enumerate(H_list):\n",
    "    ALL_H_sym += matrix(H)* var('w'+str(hdx+1))\n",
    "ALL_H_sym"
   ]
  },
  {
   "cell_type": "code",
   "execution_count": 24,
   "metadata": {},
   "outputs": [
    {
     "data": {
      "text/plain": [
       "[   0    0    0    0 -a10 -a11    0 -a13 -a14    0 -a16 -a17]\n",
       "[   0    0    0  a10    0 -a12  a13    0 -a15  a16    0 -a18]\n",
       "[   0    0    0  a11  a12    0  a14  a15    0  a17  a18    0]\n",
       "[   0  a10  a11    0    0    0    0  -a1  -a2    0  -a4  -a5]\n",
       "[-a10    0  a12    0    0    0   a1    0  -a3   a4    0  -a6]\n",
       "[-a11 -a12    0    0    0    0   a2   a3    0   a5   a6    0]\n",
       "[   0  a13  a14    0   a1   a2    0    0    0    0  -a7  -a8]\n",
       "[-a13    0  a15  -a1    0   a3    0    0    0   a7    0  -a9]\n",
       "[-a14 -a15    0  -a2  -a3    0    0    0    0   a8   a9    0]\n",
       "[   0  a16  a17    0   a4   a5    0   a7   a8    0    0    0]\n",
       "[-a16    0  a18  -a4    0   a6  -a7    0   a9    0    0    0]\n",
       "[-a17 -a18    0  -a5  -a6    0  -a8  -a9    0    0    0    0]"
      ]
     },
     "execution_count": 24,
     "metadata": {},
     "output_type": "execute_result"
    }
   ],
   "source": [
    "ALL_L_sym = matrix(ZEROS.copy())\n",
    "for ldx, L in enumerate(L_list):\n",
    "    ALL_L_sym += matrix(L)* var('a'+str(ldx+1))\n",
    "ALL_L_sym"
   ]
  },
  {
   "cell_type": "code",
   "execution_count": 25,
   "metadata": {},
   "outputs": [
    {
     "name": "stdout",
     "output_type": "stream",
     "text": [
      "(492, 12)\n"
     ]
    }
   ],
   "source": [
    "# save matrices\n",
    "\n",
    "# currently in DiPy:\n",
    "#   - first matrix is all zeros (provides size)\n",
    "#   - H_matrix for 22nd parameter (intercept i.e. logS0) is provided, is all zeros\n",
    "\n",
    "ALL = [ZEROS.copy(),] + H_list + [ZEROS.copy(),] + L_list   # this is what I had\n",
    "#ALL = [ZEROS.copy(),] + H_list + [ZEROS.copy(),] # + L_list[0:9]   # this is what I am being forced to test...\n",
    "\n",
    "\n",
    "# need to stack the matrices on top of eachother to conform with how DiPy reads them in\n",
    "ALL_stack = np.vstack(ALL)\n",
    "print(ALL_stack.shape)\n",
    "\n",
    "# <class 'scipy.sparse._csr.csr_matrix'>\n",
    "ALL_stack = sparse.csr_matrix(ALL_stack)\n",
    "sparse.save_npz(\"dki_constraint_SC.npz\", ALL_stack)"
   ]
  },
  {
   "cell_type": "code",
   "execution_count": 26,
   "metadata": {},
   "outputs": [],
   "source": [
    "# test that DiPy load_npz will work\n",
    "test = np.load(\"dki_constraint_SC.npz\")\n",
    "test = sparse.load_npz(\"dki_constraint_SC.npz\")"
   ]
  },
  {
   "cell_type": "code",
   "execution_count": 27,
   "metadata": {},
   "outputs": [
    {
     "name": "stdout",
     "output_type": "stream",
     "text": [
      "<class 'scipy.sparse.csr.csr_matrix'>\n",
      "492 12\n"
     ]
    }
   ],
   "source": [
    "# make sure it can be converted to list, same way as DiPy\n",
    "n, x = test.shape\n",
    "print(type(test))\n",
    "print(n, x)\n",
    "sdp_constraints = [test[i * x : (i + 1) * x] for i in range(n // x)]"
   ]
  },
  {
   "cell_type": "code",
   "execution_count": 28,
   "metadata": {},
   "outputs": [
    {
     "data": {
      "text/plain": [
       "41"
      ]
     },
     "execution_count": 28,
     "metadata": {},
     "output_type": "execute_result"
    }
   ],
   "source": [
    "len(sdp_constraints)"
   ]
  },
  {
   "cell_type": "code",
   "execution_count": 29,
   "metadata": {},
   "outputs": [
    {
     "data": {
      "text/plain": [
       "array([[0, 0, 0, 0, 0, 0, 0, 0, 0, 0, 0, 0],\n",
       "       [0, 0, 0, 0, 0, 0, 0, 0, 0, 0, 0, 0],\n",
       "       [0, 0, 0, 0, 0, 0, 0, 0, 0, 0, 0, 0],\n",
       "       [0, 0, 0, 2, 0, 0, 0, 0, 0, 0, 0, 0],\n",
       "       [0, 0, 0, 0, 0, 0, 0, 0, 0, 0, 0, 0],\n",
       "       [0, 0, 0, 0, 0, 0, 0, 0, 0, 0, 0, 0],\n",
       "       [0, 0, 0, 0, 0, 0, 0, 0, 0, 0, 0, 0],\n",
       "       [0, 0, 0, 0, 0, 0, 0, 0, 0, 0, 0, 0],\n",
       "       [0, 0, 0, 0, 0, 0, 0, 0, 0, 0, 0, 0],\n",
       "       [0, 0, 0, 0, 0, 0, 0, 0, 0, 0, 0, 0],\n",
       "       [0, 0, 0, 0, 0, 0, 0, 0, 0, 0, 0, 0],\n",
       "       [0, 0, 0, 0, 0, 0, 0, 0, 0, 0, 0, 0]])"
      ]
     },
     "execution_count": 29,
     "metadata": {},
     "output_type": "execute_result"
    }
   ],
   "source": [
    "sdp_constraints[7].toarray()"
   ]
  },
  {
   "cell_type": "code",
   "execution_count": null,
   "metadata": {},
   "outputs": [],
   "source": []
  }
 ],
 "metadata": {
  "kernelspec": {
   "display_name": "SageMath 9.0",
   "language": "sage",
   "name": "sagemath"
  },
  "language_info": {
   "codemirror_mode": {
    "name": "ipython",
    "version": 3
   },
   "file_extension": ".py",
   "mimetype": "text/x-python",
   "name": "python",
   "nbconvert_exporter": "python",
   "pygments_lexer": "ipython3",
   "version": "3.8.10"
  }
 },
 "nbformat": 4,
 "nbformat_minor": 4
}
